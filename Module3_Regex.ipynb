{
 "cells": [
  {
   "cell_type": "markdown",
   "metadata": {},
   "source": [
    "# Regular Expressions"
   ]
  },
  {
   "cell_type": "markdown",
   "metadata": {},
   "source": [
    "# Tasks today:\n",
    "1) <b>Importing</b> <br>\n",
    "2) <b>Using Regular Expressions</b> <br>\n",
    " &nbsp;&nbsp;&nbsp;&nbsp; a) re.compile() <br>\n",
    " &nbsp;&nbsp;&nbsp;&nbsp; b) re.match() <br>\n",
    " &nbsp;&nbsp;&nbsp;&nbsp; c) re.findall() <br>\n",
    " &nbsp;&nbsp;&nbsp;&nbsp; d) re.search() <br>\n",
    "3) <b>Sets</b> <br>\n",
    " &nbsp;&nbsp;&nbsp;&nbsp; a) Integer Ranges <br>\n",
    " &nbsp;&nbsp;&nbsp;&nbsp; b) Character Ranges <br>\n",
    "4) <b>Counting Occurences</b> <br>\n",
    " &nbsp;&nbsp;&nbsp;&nbsp; a) {x} <br>\n",
    " &nbsp;&nbsp;&nbsp;&nbsp; b) {, x} <br>\n",
    " &nbsp;&nbsp;&nbsp;&nbsp; c) {?} <br>\n",
    " &nbsp;&nbsp;&nbsp;&nbsp; d) {*} <br>\n",
    " &nbsp;&nbsp;&nbsp;&nbsp; e) {+} <br>\n",
    "5) <b>In-Class Exercise #1</b> <br>\n",
    "6) <b>Escaping Characters</b> <br>\n",
    "7) <b>Grouping</b> <br>\n",
    "8) <b>In-Class Exercise #2</b> <br>\n",
    "9) <b>Opening a File</b> <br>\n",
    " &nbsp;&nbsp;&nbsp;&nbsp; a) open() <br>\n",
    " &nbsp;&nbsp;&nbsp;&nbsp; b) with open() <br>\n",
    " &nbsp;&nbsp;&nbsp;&nbsp; c) re.match() <br>\n",
    " &nbsp;&nbsp;&nbsp;&nbsp; d) re.search() <br>\n",
    " &nbsp;&nbsp;&nbsp;&nbsp; e) Store the String in a Variable <br>\n",
    "10) <b>Regex Project</b> <br>"
   ]
  },
  {
   "cell_type": "markdown",
   "metadata": {},
   "source": [
    "### Importing <br>\n",
    "<p>Regular Expressions are universal throughout most programming languages... They are generally imported through the module 're'.</p>"
   ]
  },
  {
   "cell_type": "code",
   "execution_count": null,
   "metadata": {},
   "outputs": [],
   "source": [
    "# import re\n",
    "import re"
   ]
  },
  {
   "cell_type": "markdown",
   "metadata": {},
   "source": [
    "### Using Regular Expressions <br>\n",
    "<p>Regular expressions give us the ability to search for patterns within text, strings, files, etc. They serve several uses, such as; security measures, searching, filtering, pattern recognition, and more...</p>"
   ]
  },
  {
   "cell_type": "markdown",
   "metadata": {},
   "source": [
    "##### re.compile()"
   ]
  },
  {
   "cell_type": "code",
   "execution_count": null,
   "metadata": {},
   "outputs": [],
   "source": [
    "# using compile, pre determines the string to be used in regular expression methods\n",
    "\n"
   ]
  },
  {
   "cell_type": "markdown",
   "metadata": {},
   "source": [
    "##### re.match()"
   ]
  },
  {
   "cell_type": "code",
   "execution_count": null,
   "metadata": {},
   "outputs": [],
   "source": [
    "#re.match works like re.search excpet it only checks the beggining of a string \n",
    "\n",
    "# Accessing the span of the match\n"
   ]
  },
  {
   "cell_type": "markdown",
   "metadata": {},
   "source": [
    "##### re.findall()"
   ]
  },
  {
   "cell_type": "code",
   "execution_count": 3,
   "metadata": {
    "scrolled": false
   },
   "outputs": [
    {
     "name": "stdout",
     "output_type": "stream",
     "text": [
      "['w', 'w', 'w']\n"
     ]
    }
   ],
   "source": [
    "# re.findall() finds all matches in a string given a search pattern then returns a list\n",
    "# example:\n",
    "import re\n",
    "mystring = \"welcome to my world, wont you come on in\"\n",
    "x = re.findall(r\"\\bw\", mystring)\n",
    "print(x)"
   ]
  },
  {
   "cell_type": "markdown",
   "metadata": {},
   "source": [
    "##### re.search()"
   ]
  },
  {
   "cell_type": "code",
   "execution_count": 5,
   "metadata": {
    "scrolled": true
   },
   "outputs": [
    {
     "name": "stdout",
     "output_type": "stream",
     "text": [
      "<re.Match object; span=(28, 29), match='?'>\n",
      "None\n"
     ]
    }
   ],
   "source": [
    "#re.search() takes a search pattern and a string and if the search pattern is present in the string then re.search will \n",
    "#provide a match object for the first instance its found if the search pattern is not present re.search returns None\n",
    "import re\n",
    "mystring = \"hello how are we doing today?\"\n",
    "print(re.search(\"[?]\", mystring))\n",
    "\n",
    "mystring2 = \"somewhere theres a someone\"\n",
    "print(re.search(\"[?]\", mystring2))"
   ]
  },
  {
   "cell_type": "markdown",
   "metadata": {},
   "source": [
    "### Sets <br>\n",
    "<p>The following cells will allow you to use regular expressions to search for certain values within a range such as numbers 1 through 4.</p>"
   ]
  },
  {
   "cell_type": "markdown",
   "metadata": {},
   "source": [
    "##### [a-z] or [A-Z] - any lowercase/uppercase letters from a to z<br/>[^2] - anything that's not 2"
   ]
  },
  {
   "cell_type": "markdown",
   "metadata": {},
   "source": [
    "##### Integer Ranges"
   ]
  },
  {
   "cell_type": "code",
   "execution_count": 6,
   "metadata": {},
   "outputs": [
    {
     "name": "stdout",
     "output_type": "stream",
     "text": [
      "<re.Match object; span=(22, 24), match='48'>\n"
     ]
    }
   ],
   "source": [
    "#you can find the integer range using sets, for example if you want to see if a number is in a certain range with sets\n",
    "# then [0-9] provides a match for all single digit numbers between 0 and 9, and [0-9][0-9] would provide a match for all \n",
    "#double digit numbers between 00 and 99\n",
    "#example \n",
    "import re\n",
    "numb = \"my favorite number is 48\"\n",
    "print(re.search(\"[0-9][0-9]\", numb))"
   ]
  },
  {
   "cell_type": "markdown",
   "metadata": {},
   "source": [
    "##### Character Ranges"
   ]
  },
  {
   "cell_type": "code",
   "execution_count": 14,
   "metadata": {},
   "outputs": [
    {
     "name": "stdout",
     "output_type": "stream",
     "text": [
      "['b', 'd', 'b']\n",
      "['b', 'l', 'e', 'a', 'i', 'n', 'h', 'e', 'd', 'f', 'h', 'e', 'a', 'h', 'a', 'f', 'e', 'e', 'l']\n"
     ]
    }
   ],
   "source": [
    "#using sets with alphabetical characters will return a match for the characters you include in your set and if you use a \"-\"\n",
    "# then also return a match for any characters that are alphabetically inbetween them\n",
    "#example\n",
    "import re\n",
    "string = \"nobody but a fool\"\n",
    "print(re.findall(\"[bd]\", string))\n",
    "string2 = \"blue aint the word for the way that I feel\"\n",
    "print(re.findall(\"[a-n]\", string2))\n"
   ]
  },
  {
   "cell_type": "markdown",
   "metadata": {},
   "source": [
    "### Counting Occurences"
   ]
  },
  {
   "cell_type": "markdown",
   "metadata": {},
   "source": [
    "##### {x} - something that occurs {num_of_times}"
   ]
  },
  {
   "cell_type": "code",
   "execution_count": 15,
   "metadata": {},
   "outputs": [
    {
     "name": "stdout",
     "output_type": "stream",
     "text": [
      "<re.Match object; span=(22, 26), match='door'>\n"
     ]
    }
   ],
   "source": [
    "# using {} braces in your search pattern with a number in them will return a match if something occurs that many times\n",
    "import re\n",
    "string = \"its knowing that your door is always open\"\n",
    "pattern = \"d.{2}r\"\n",
    "print(re.search(pattern, string))\n",
    "\n"
   ]
  },
  {
   "cell_type": "markdown",
   "metadata": {},
   "source": [
    "##### {x, x} - something that occurs between x and x times"
   ]
  },
  {
   "cell_type": "code",
   "execution_count": 17,
   "metadata": {},
   "outputs": [
    {
     "name": "stdout",
     "output_type": "stream",
     "text": [
      "['sure ', 'swim ', 'sea t']\n"
     ]
    }
   ],
   "source": [
    "#putting two numbers in the braces for something that occurs atleast a certain amount of times but not more than a certain \n",
    "#amount\n",
    "#example\n",
    "import re\n",
    "pattern = \"s.{2,4}\"\n",
    "string = \"are you sure you wont swim at the sea today\"\n",
    "print(re.findall(pattern, string))"
   ]
  },
  {
   "cell_type": "markdown",
   "metadata": {},
   "source": [
    "##### ? - something that occurs 0 or 1 time"
   ]
  },
  {
   "cell_type": "code",
   "execution_count": 22,
   "metadata": {},
   "outputs": [
    {
     "name": "stdout",
     "output_type": "stream",
     "text": [
      "<re.Match object; span=(0, 3), match='how'>\n",
      "None\n"
     ]
    }
   ],
   "source": [
    "#use ? in your search pattern for something that occurs 0 or 1 times\n",
    "#example\n",
    "import re\n",
    "string = \"how are you today?\"\n",
    "pattern = \"ho?w\"\n",
    "print(re.search(pattern, string))\n",
    "string2 = \"hoooow are you today?\"\n",
    "print(re.search(pattern, string2))"
   ]
  },
  {
   "cell_type": "markdown",
   "metadata": {},
   "source": [
    "##### * - something that occurs at least 0 times"
   ]
  },
  {
   "cell_type": "code",
   "execution_count": 25,
   "metadata": {},
   "outputs": [
    {
     "name": "stdout",
     "output_type": "stream",
     "text": [
      "<re.Match object; span=(0, 5), match='hello'>\n"
     ]
    }
   ],
   "source": [
    "#use '*' in search patterns to define somethign that occurs atleast 0 times\n",
    "#example\n",
    "import re\n",
    "string = \"hello everybody\"\n",
    "pattern = \"h.*lo\"\n",
    "print(re.search(pattern, string))"
   ]
  },
  {
   "cell_type": "markdown",
   "metadata": {},
   "source": [
    "##### + - something that occurs at least once"
   ]
  },
  {
   "cell_type": "code",
   "execution_count": 26,
   "metadata": {},
   "outputs": [
    {
     "name": "stdout",
     "output_type": "stream",
     "text": [
      "<re.Match object; span=(8, 13), match='world'>\n"
     ]
    }
   ],
   "source": [
    "#use '+' for something that occurs atleast once\n",
    "#example\n",
    "import re\n",
    "mystring = \"let the world just pass me by\"\n",
    "test = \"w.+d\"\n",
    "print(re.search(test, mystring))"
   ]
  },
  {
   "cell_type": "markdown",
   "metadata": {},
   "source": [
    "##### In-class exercise 1: \n",
    "\n",
    "Use a regular expression to find every number in the given string"
   ]
  },
  {
   "cell_type": "code",
   "execution_count": 42,
   "metadata": {},
   "outputs": [
    {
     "name": "stdout",
     "output_type": "stream",
     "text": [
      "['1', '0', '9', '0', '9', '0', '9', '0', '1', '2']\n"
     ]
    }
   ],
   "source": [
    "import re\n",
    "lestring = 'This string has 10909090 numbers, but it is only 1 string. I hope you solve this 2day.'\n",
    "nums = re.findall(\"\\d\", lestring)\n",
    "print(nums)\n"
   ]
  },
  {
   "cell_type": "markdown",
   "metadata": {},
   "source": [
    "### Escaping Characters"
   ]
  },
  {
   "cell_type": "markdown",
   "metadata": {},
   "source": [
    "##### \\w - look for any Unicode character<br/>\\W - look for anything that isnt a Unicode character\n",
    "\n",
    "[History on Unicode](http://unicode.org/standard/WhatIsUnicode.html)\n",
    "\n",
    "[More on Unicode Characters](https://en.wikipedia.org/wiki/List_of_Unicode_characters)"
   ]
  },
  {
   "cell_type": "code",
   "execution_count": 27,
   "metadata": {},
   "outputs": [
    {
     "name": "stdout",
     "output_type": "stream",
     "text": [
      "['l', 'o', 'o', 'k', 'o', 'u', 't', 'w', 'e', 'a', 'r', 'e', 'a', 't', '4', 'p', 'o', 'w', 'e', 'r', 'o', 'n', 's', 'h', 'i', 'p']\n",
      "[' ', ' ', '!', ' ', ' ', ' ', ' ', ' ', '%', ' ', ' ', ' ', ' ', '!']\n"
     ]
    }
   ],
   "source": [
    "#\\w is used to look for any alphanumeric character which means any m=number 0-9, and letter a-z or A-Z and the underscore \n",
    "# symbol and returns a match whereever these are present meanwhile \\W returns a match where no alphanumeric character is \n",
    "#present(things like '!' or '%')\n",
    "#example\n",
    "import re\n",
    "mystring = \"look out ! we are at 4 % power on ship !\"\n",
    "print(re.findall(\"\\w\", mystring))\n",
    "print(re.findall(\"\\W\", mystring))"
   ]
  },
  {
   "cell_type": "markdown",
   "metadata": {},
   "source": [
    "##### \\d - look for any digit 0-9<br/>\\D - look for anything that isnt a digit"
   ]
  },
  {
   "cell_type": "code",
   "execution_count": 28,
   "metadata": {},
   "outputs": [
    {
     "name": "stdout",
     "output_type": "stream",
     "text": [
      "['1']\n",
      "['w', 'e', ' ', 'a', 'r', 'e', ' ', 'n', 'u', 'm', 'b', 'e', 'r', ' ']\n"
     ]
    }
   ],
   "source": [
    "# \\d returns anything that is a digit (number) and \\D does the opposite\n",
    "sentence = \"we are number 1\"\n",
    "print(re.findall(\"\\d\", sentence))\n",
    "print(re.findall(\"\\D\", sentence))"
   ]
  },
  {
   "cell_type": "markdown",
   "metadata": {},
   "source": [
    "##### \\s - look for any white space<br/>\\S - look for anything that isnt whitespace"
   ]
  },
  {
   "cell_type": "code",
   "execution_count": 45,
   "metadata": {},
   "outputs": [
    {
     "name": "stdout",
     "output_type": "stream",
     "text": [
      "[' ', ' ', ' ', ' ', ' ', ' ', ' ', ' ']\n",
      "['t', 'h', 'i', 's', 'i', 's', 'm', 'y', 's', 'e', 'n', 't', 'e', 'n', 'c', 'e', 'a', 'n', 'd', 'i', 't', 'h', 'a', 's', 's', 'o', 'm', 'e', 'w', 'h', 'i', 't', 'e', 's', 'p', 'a', 'c', 'e']\n"
     ]
    }
   ],
   "source": [
    "# \\s returns whitespaces and \\S does the opposit\n",
    "string = \"this is my sentence and it has some whitespace\"\n",
    "print(re.findall(\"\\s\", string))\n",
    "print(re.findall(\"\\S\", string))"
   ]
  },
  {
   "cell_type": "markdown",
   "metadata": {},
   "source": [
    "##### \\b - look for boundaries or edges of a word<br/>\\B - look for anything that isnt a boundary"
   ]
  },
  {
   "cell_type": "code",
   "execution_count": 50,
   "metadata": {},
   "outputs": [
    {
     "name": "stdout",
     "output_type": "stream",
     "text": [
      "<re.Match object; span=(15, 18), match='bea'>\n",
      "<re.Match object; span=(3, 7), match='come'>\n",
      "<re.Match object; span=(15, 17), match='ai'>\n"
     ]
    }
   ],
   "source": [
    "# b\\ returns a match if it finds specified characters at the beggining or end of a word while \\B will return a match if it\n",
    "#finds specified characters but NOT at the beggining or NOT at the end of a word\n",
    "#requires an r for raw string (r\"\\b\")\n",
    "#example\n",
    "string = \"welcome to the beach\"\n",
    "print(re.search(r\"\\bbea\", string))\n",
    "print(re.search(r\"come\\b\", string))\n",
    "string2 = \"Im in alot of pain\"\n",
    "print(re.search(r\"\\Bai\", string2))\n"
   ]
  },
  {
   "cell_type": "markdown",
   "metadata": {},
   "source": [
    "### Grouping"
   ]
  },
  {
   "cell_type": "code",
   "execution_count": null,
   "metadata": {},
   "outputs": [],
   "source": [
    "# you use () to group together multiple search patterns, like I did in the problem below"
   ]
  },
  {
   "cell_type": "markdown",
   "metadata": {},
   "source": [
    "##### In-class Exercise 2:\n",
    "\n",
    "Write a function using regular expressions to find the domain name in the given email addresses (and return None for the invalid email addresses)<br><b>HINT: Use '|' for either or</b>"
   ]
  },
  {
   "cell_type": "code",
   "execution_count": 41,
   "metadata": {},
   "outputs": [
    {
     "name": "stdout",
     "output_type": "stream",
     "text": [
      "None\n",
      "pocohontas1776@gmail.com\n",
      "None\n",
      "yourfavoriteband@g6.org\n",
      "None\n"
     ]
    }
   ],
   "source": [
    "my_emails = [\"jordanw@codingtemple.orgcom\", \"pocohontas1776@gmail.com\", \"helloworld@aol..com\",\n",
    "             \"yourfavoriteband@g6.org\", \"@codingtemple.com\"]\n",
    "\n",
    "# You can also use the $ at the end of your compile expression -- this stops the search\n",
    "\n",
    "#.com OR .org => com|org\n",
    "\n",
    "#Expected output:\n",
    "#None\n",
    "#pocohontas1776@gmail.com\n",
    "#None\n",
    "#yourfavoriteband@g6.org\n",
    "#None\n",
    "import re\n",
    "\n",
    "def find_domain(emails):\n",
    "    \"\"\"a function to give the domain from a list of emails which are properly formatted\"\"\"\n",
    "    pattern = \"(\\w)([@])(\\w*)([.]{1})(com|org)($)\"\n",
    "    for email in emails:\n",
    "        x = re.search(pattern, email)\n",
    "        if x:\n",
    "            print(email)\n",
    "        else:\n",
    "            print(\"None\")\n",
    "find_domain(my_emails)\n",
    "    \n",
    " "
   ]
  },
  {
   "cell_type": "markdown",
   "metadata": {},
   "source": [
    "### Opening a File <br>\n",
    "<p>Python gives us a couple ways to import files, below are the two used most often.</p>"
   ]
  },
  {
   "cell_type": "markdown",
   "metadata": {},
   "source": [
    "##### open()"
   ]
  },
  {
   "cell_type": "code",
   "execution_count": null,
   "metadata": {},
   "outputs": [],
   "source": [
    "#the built in open() function in python opens a file and returns it as a file object\n",
    "#the synthax looks like: open(file_name, mode)"
   ]
  },
  {
   "cell_type": "markdown",
   "metadata": {},
   "source": [
    "##### with open()"
   ]
  },
  {
   "cell_type": "code",
   "execution_count": null,
   "metadata": {},
   "outputs": [],
   "source": [
    "#with open you can read out a .txt file line by line by setting the mode to \"r\" or you can write over it by putting the \n",
    "#mode parameter to \"w\""
   ]
  },
  {
   "cell_type": "markdown",
   "metadata": {},
   "source": [
    "##### re.match()"
   ]
  },
  {
   "cell_type": "code",
   "execution_count": null,
   "metadata": {},
   "outputs": [],
   "source": []
  },
  {
   "cell_type": "markdown",
   "metadata": {},
   "source": [
    "##### re.search()"
   ]
  },
  {
   "cell_type": "code",
   "execution_count": null,
   "metadata": {},
   "outputs": [],
   "source": []
  },
  {
   "cell_type": "markdown",
   "metadata": {},
   "source": [
    "##### Store the String to a Variable"
   ]
  },
  {
   "cell_type": "code",
   "execution_count": null,
   "metadata": {},
   "outputs": [],
   "source": []
  },
  {
   "cell_type": "markdown",
   "metadata": {},
   "source": [
    "### In-Class Exercise #3 <br>\n",
    "<p>Print each persons name and twitter handle, using groups, should look like:</p>\n",
    "<p>==============<br>\n",
    "   Full Name / Twitter<br>\n",
    "   ==============</p>\n",
    "Derek Hawkins / @derekhawkins\n",
    "\n",
    " Erik Sven-Osterberg / @sverik\n",
    "\n",
    " Ryan Butz / @ryanbutz\n",
    "\n",
    " Example Exampleson / @example\n",
    "\n",
    " Ripal Pael / @ripalp\n",
    "\n",
    " Darth Vader / @darthvader"
   ]
  },
  {
   "cell_type": "code",
   "execution_count": 28,
   "metadata": {
    "scrolled": false
   },
   "outputs": [
    {
     "name": "stdout",
     "output_type": "stream",
     "text": [
      "Derek Hawkins/ @derekhawkins\n",
      "Sven Osterberg/ @sverik\n",
      "Ryan Butz/ @ryanbutz\n",
      "Example Exampleson/ @example\n",
      "Ripal Pael/ @ripalp\n",
      "Darth Vader/ @darthvader\n"
     ]
    }
   ],
   "source": [
    "import re\n",
    "pattern = \"(^[A-Z]{1})([a-z]{1,15})([,])([' '])([A-Z]{1})([a-z]{1,9})\"\n",
    "pattern2 = \"([@])([a-z]{1,15})($)\"\n",
    "fi = open(\"names.txt\", \"r\")\n",
    "persons = fi.readlines()\n",
    "for people in persons:\n",
    "    x = re.search(pattern, people)\n",
    "    y = re.search(pattern2, people)\n",
    "    if x and y:\n",
    "        print(f\"{x.group(5)}{x.group(6)} {x.group(1)}{x.group(2)}/ {y.group()}\")\n"
   ]
  },
  {
   "cell_type": "markdown",
   "metadata": {},
   "source": [
    "### Regex project\n",
    "\n",
    "Use python to read the file regex_test.txt and print the last name on each line using regular expressions and groups (return None for names with no first and last name, or names that aren't properly capitalized)\n",
    "##### Hint: use with open() and readlines()"
   ]
  },
  {
   "cell_type": "code",
   "execution_count": null,
   "metadata": {},
   "outputs": [],
   "source": [
    "\"\"\"\n",
    "Expected Output\n",
    "Abraham Lincoln\n",
    "Andrew P Garfield\n",
    "Connor Milliken\n",
    "Jordan Alexander Williams\n",
    "None\n",
    "None\n",
    "\"\"\""
   ]
  },
  {
   "cell_type": "code",
   "execution_count": 10,
   "metadata": {},
   "outputs": [
    {
     "name": "stdout",
     "output_type": "stream",
     "text": [
      "Abraham Lincoln\n",
      "\n",
      "Andrew P Garfield\n",
      "\n",
      "Connor Milliken\n",
      "\n",
      "Jordan Alexander Williams\n",
      "\n",
      "None\n",
      "None\n"
     ]
    }
   ],
   "source": [
    "import re\n",
    "pattern = \"(^[A-Z]{1})(.*)(\\s)([A-Z{1}])(.*)\"\n",
    "f = open(\"regex_test.txt\", \"r\")\n",
    "namelist = f.readlines()\n",
    "for names in namelist:\n",
    "    x = re.search(pattern, names)\n",
    "    if x:\n",
    "        print(names)\n",
    "    else:\n",
    "        print(\"None\")\n",
    "    \n",
    "\n",
    "\n",
    "\n",
    "\n"
   ]
  }
 ],
 "metadata": {
  "kernelspec": {
   "display_name": "Python 3 (ipykernel)",
   "language": "python",
   "name": "python3"
  },
  "language_info": {
   "codemirror_mode": {
    "name": "ipython",
    "version": 3
   },
   "file_extension": ".py",
   "mimetype": "text/x-python",
   "name": "python",
   "nbconvert_exporter": "python",
   "pygments_lexer": "ipython3",
   "version": "3.10.9"
  }
 },
 "nbformat": 4,
 "nbformat_minor": 2
}
